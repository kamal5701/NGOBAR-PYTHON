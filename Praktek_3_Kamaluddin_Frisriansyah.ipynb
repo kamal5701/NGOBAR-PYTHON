{
  "nbformat": 4,
  "nbformat_minor": 0,
  "metadata": {
    "colab": {
      "private_outputs": true,
      "provenance": [],
      "toc_visible": true,
      "include_colab_link": true
    },
    "kernelspec": {
      "name": "python3",
      "display_name": "Python 3"
    },
    "language_info": {
      "name": "python"
    }
  },
  "cells": [
    {
      "cell_type": "markdown",
      "metadata": {
        "id": "view-in-github",
        "colab_type": "text"
      },
      "source": [
        "<a href=\"https://colab.research.google.com/github/kamal5701/NGOBAR-PYTHON/blob/main/Praktek_3_Kamaluddin_Frisriansyah.ipynb\" target=\"_parent\"><img src=\"https://colab.research.google.com/assets/colab-badge.svg\" alt=\"Open In Colab\"/></a>"
      ]
    },
    {
      "cell_type": "markdown",
      "source": [
        "# Jawaban Praktek 3"
      ],
      "metadata": {
        "id": "eT0O7BWYZcvc"
      }
    },
    {
      "cell_type": "markdown",
      "source": [
        "Soal No 1\n",
        "\n",
        "Manipulasi String dengan Slicing\n",
        "\n",
        "kalimat = \"Hari Ini Adalah Hari Ketiga Saya Mengikuti Kegiatan Ngobar\"\n",
        "\n",
        "- Ambil dan tampilkan 6 karakter pertama dari string tersebut.\n",
        "- Ambil dan tampilkan 5 karakter terakhir dari string tersebut.\n",
        "- Ambil dan tampilkan kata \"Ketiga\" dari string tersebut.\n",
        "- Tampilkan string tersebut dengan urutan terbalik."
      ],
      "metadata": {
        "id": "HizoO4HiZgvJ"
      }
    },
    {
      "cell_type": "code",
      "source": [
        "kalimat = \"Hari Ini Adalah Hari Ketiga Saya Mengikuti Kegiatan Ngobar\"\n",
        "print(kalimat)\n",
        "print(\"---------------------------------------------------------------\")\n",
        "print(kalimat[:6]) # Ambil dan tampilkan 6 karakter pertama dari string tersebut.\n",
        "print(kalimat[-5:]) # Ambil dan tampilkan 5 karakter terakhir dari string tersebut.\n",
        "print(kalimat[21:27]) # Ambil dan tampilkan kata \"Ketiga\" dari string tersebut.\n",
        "print(kalimat[::-1]) # Tampilkan string tersebut dengan urutan terbalik."
      ],
      "metadata": {
        "id": "D5czIMzmYXKA"
      },
      "execution_count": null,
      "outputs": []
    },
    {
      "cell_type": "markdown",
      "source": [
        "Soal No 2\n",
        "\n",
        "Concatenation String\n",
        "\n",
        "Buatlah 3 Variabel String (Kalimatnya Terserah) Lalu Kerjakan:\n",
        "\n",
        "- Gabungkan ketiga Variabel menggunakan operator + dan tampilkan hasilnya.\n",
        "- Gabungkan ketiga Variabel menggunakan f-string dan tampilkan hasilnya.\n",
        "- Gabungkan ketiga kata di atas menggunakan method .join() dan tampilkan hasilnya.\n"
      ],
      "metadata": {
        "id": "OCpQZtlGYs9n"
      }
    },
    {
      "cell_type": "code",
      "source": [
        "kata1 = \"Saya\"\n",
        "kata2 = \"Lulusan\"\n",
        "kata3 = \"UIA\"\n",
        "print(\"---------- Operator + ----------\")\n",
        "hasil = kata1 + \" \" + kata2 + \" \" + kata3\n",
        "print(hasil)\n",
        "print(\"---------- f-string ----------\")\n",
        "hasil_fstring = f\"{kata1} {kata2} {kata3}\"\n",
        "print(hasil_fstring)\n",
        "print(\"---------- Method Join() ----------\")\n",
        "daftar_kata = [kata1, kata2, kata3]\n",
        "hasil_join = \" \".join(daftar_kata)\n",
        "print(hasil_join)"
      ],
      "metadata": {
        "id": "Z9kfvR_mYyWs"
      },
      "execution_count": null,
      "outputs": []
    },
    {
      "cell_type": "markdown",
      "source": [
        "Soal No 3\n",
        "\n",
        "Menghitung Jumlah Karakter dan Kata\n",
        "\n",
        "tex_soal=\"aku adalah seorang kapten dari sebuah tim sepak bola liga 3 liga belgia\"\n",
        "\n",
        "yang harus dilakukan:\n",
        "- Hitung dan tampilkan jumlah karakter dalam string tersebut.\n",
        "- Hitung dan tampilkan jumlah kata dalam string tersebut."
      ],
      "metadata": {
        "id": "pXKh3V1rY06p"
      }
    },
    {
      "cell_type": "code",
      "source": [
        "text_soal = \"aku adalah seorang kapten dari sebuah tim sepak bola liga 3 liga belgia\"\n",
        "print(text_soal)\n",
        "\n",
        "def hitung_karakter(teks):\n",
        "    return len(teks)\n",
        "\n",
        "def hitung_kata(teks):\n",
        "    kata = teks.split()\n",
        "    return len(kata)\n",
        "\n",
        "# Contoh penggunaan\n",
        "jumlah_karakter = hitung_karakter(text_soal)\n",
        "jumlah_kata = hitung_kata(text_soal)\n",
        "\n",
        "print(\"Jumlah karakter:\", jumlah_karakter)\n",
        "print(\"Jumlah kata:\", jumlah_kata)"
      ],
      "metadata": {
        "id": "-5ewAZNjZHUt"
      },
      "execution_count": null,
      "outputs": []
    },
    {
      "cell_type": "markdown",
      "source": [
        "Soal No 4\n",
        "\n",
        "Hitunglah nilai rata-rata, nilai minimum, dan nilai maksimum dari array NumPy berikut:\n",
        "\n",
        "import numpy as np\n",
        "\n",
        "arr = np.array([1, 5, 2, 9, 7, 3])\n",
        "\n",
        "Yang Harus Dilakukan\n",
        "\n",
        "Import library NumPy dan buat array seperti yang ditunjukkan di atas.\n",
        "Gunakan fungsi-fungsi NumPy yang sesuai untuk menghitung nilai rata-rata (mean), nilai minimum (min), dan nilai maksimum (max) dari array tersebut.\n",
        "Tampilkan hasil perhitungan tersebut. Petunjuk:"
      ],
      "metadata": {
        "id": "W3y1TmezZLwG"
      }
    },
    {
      "cell_type": "code",
      "source": [
        "import numpy as np\n",
        "\n",
        "arr = np.array([1, 5, 2, 9, 7, 3])\n",
        "rata_rata = np.mean(arr)\n",
        "nilai_minimum = np.min(arr)\n",
        "nilai_maksimum = np.max(arr)\n",
        "\n",
        "print(\"Nilai rata-rata:\", rata_rata)\n",
        "print(\"Nilai minimum:\", nilai_minimum)\n",
        "print(\"Nilai maksimum:\", nilai_maksimum)"
      ],
      "metadata": {
        "id": "bNym1H1zZSxa"
      },
      "execution_count": null,
      "outputs": []
    }
  ]
}