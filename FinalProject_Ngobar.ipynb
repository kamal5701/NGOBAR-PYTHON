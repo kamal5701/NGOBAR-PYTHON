{
  "nbformat": 4,
  "nbformat_minor": 0,
  "metadata": {
    "colab": {
      "provenance": [],
      "toc_visible": true,
      "authorship_tag": "ABX9TyMj0YRCotGJ8/PlJp5hKDNd",
      "include_colab_link": true
    },
    "kernelspec": {
      "name": "python3",
      "display_name": "Python 3"
    },
    "language_info": {
      "name": "python"
    }
  },
  "cells": [
    {
      "cell_type": "markdown",
      "metadata": {
        "id": "view-in-github",
        "colab_type": "text"
      },
      "source": [
        "<a href=\"https://colab.research.google.com/github/kamal5701/NGOBAR-PYTHON/blob/main/FinalProject_Ngobar.ipynb\" target=\"_parent\"><img src=\"https://colab.research.google.com/assets/colab-badge.svg\" alt=\"Open In Colab\"/></a>"
      ]
    },
    {
      "cell_type": "markdown",
      "source": [
        "# Final Project"
      ],
      "metadata": {
        "id": "PK0xHrwG_mVY"
      }
    },
    {
      "cell_type": "markdown",
      "source": [
        "Deskripsi: Anda diminta untuk mengembangkan sebuah sistem manajemen siswa yang dapat\n",
        "menyimpan, mengelola, dan menampilkan data siswa. Sistem ini harus mencakup beberapa fitur,\n",
        "termasuk penambahan data siswa, perhitungan nilai, dan manipulasi string.\n",
        "Fitur yang Diperlukan :\n",
        "- Input Data Siswa:\n",
        "  - Program harus meminta pengguna untuk memasukkan data siswa, termasuk nama, NIM, jurusan, dan nilai.\n",
        "  - Data siswa harus disimpan dalam sebuah list of dictionaries, di mana setiap dictionary berisi informasi tentang satu siswa.\n",
        "\n",
        "- Menampilkan Data Siswa:\n",
        "  - Program harus dapat menampilkan semua data siswa yang telah dimasukkan.\n",
        "  - Pengguna dapat mencari siswa berdasarkan NIM dan menampilkan informasinya.\n",
        "\n",
        "- Menghitung Rata-rata Nilai:\n",
        "  - Program harus menghitung dan menampilkan rata-rata nilai dari semua siswa yang telah dimasukkan.\n",
        "  - Jika tidak ada siswa yang dimasukkan, program harus menampilkan pesan yang sesuai.\n",
        "\n",
        "- Menu Pilihan:\n",
        "  - Program harus memiliki menu pilihan yang memungkinkan pengguna untuk:\n",
        "  - Menambahkan data siswa baru.\n",
        "  - Menampilkan semua data siswa.\n",
        "  - Mencari siswa berdasarkan NIM.\n",
        "  - Menghitung rata-rata nilai.\n",
        "  - Keluar dari program"
      ],
      "metadata": {
        "id": "RxQ-ISsj_s9y"
      }
    },
    {
      "cell_type": "code",
      "source": [
        "def main():\n",
        "    students = []  # List untuk menyimpan data siswa\n",
        "\n",
        "    while True:\n",
        "        print(\"-------------------------------------\")\n",
        "        print(\"\\tSistem Manajemen Siswa\")\n",
        "        print(\"-------------------------------------\")\n",
        "        print(\"1. Tambah Data Siswa\")\n",
        "        print(\"2. Tampilkan Semua Data Siswa\")\n",
        "        print(\"3. Cari Siswa berdasarkan NIM\")\n",
        "        print(\"4. Hitung Rata-rata Nilai\")\n",
        "        print(\"5. Keluar\")\n",
        "        print(\"-------------------------------------\")\n",
        "\n",
        "        try:\n",
        "            choice = int(input(\"Pilih menu (1-5): \"))\n",
        "        except ValueError:\n",
        "            print(\"Masukkan angka yang valid.\")\n",
        "            continue\n",
        "\n",
        "        if choice == 1:\n",
        "            add_student(students)\n",
        "        elif choice == 2:\n",
        "            display_students(students)\n",
        "        elif choice == 3:\n",
        "            search_student_by_nim(students)\n",
        "        elif choice == 4:\n",
        "            calculate_average_grade(students)\n",
        "        elif choice == 5:\n",
        "            print(\"-------------------------------------\")\n",
        "            print(\"Keluar dari program.\")\n",
        "            print(\"-------------------------------------\")\n",
        "            break\n",
        "        else:\n",
        "            print(\"-------------------------------------\")\n",
        "            print(\"Pilihan tidak valid. Silakan coba lagi.\")\n",
        "\n",
        "\n",
        "def add_student(students):\n",
        "    \"\"\"Menambahkan data siswa baru.\"\"\"\n",
        "    print(\"-------------------------------------\")\n",
        "    name = input(\"Masukkan Nama: \").strip()\n",
        "    nim = input(\"Masukkan NIM: \").strip()\n",
        "    major = input(\"Masukkan Jurusan: \").strip()\n",
        "    try:\n",
        "        grade = float(input(\"Masukkan Nilai: \"))\n",
        "        print(\"-------------------------------------\")\n",
        "    except ValueError:\n",
        "        print(\"Nilai harus berupa angka.\")\n",
        "        return\n",
        "\n",
        "    student = {\n",
        "        \"Nama\": name,\n",
        "        \"NIM\": nim,\n",
        "        \"Jurusan\": major,\n",
        "        \"Nilai\": grade\n",
        "    }\n",
        "\n",
        "    students.append(student)\n",
        "    print(f\"Data siswa dengan NIM {nim} berhasil ditambahkan.\")\n",
        "\n",
        "def display_students(students):\n",
        "    \"\"\"Menampilkan semua data siswa.\"\"\"\n",
        "    if not students:\n",
        "        print(\"-------------------------------------\")\n",
        "        print(\"Tidak ada data siswa untuk ditampilkan.\")\n",
        "        return\n",
        "\n",
        "    print(\"\\nDaftar Data Siswa:\")\n",
        "    for i, student in enumerate(students, start=1):\n",
        "        print(f\"{i}. Nama: {student['Nama']}, NIM: {student['NIM']}, Jurusan: {student['Jurusan']}, Nilai: {student['Nilai']}\")\n",
        "\n",
        "\n",
        "def search_student_by_nim(students):\n",
        "    \"\"\"Mencari siswa berdasarkan NIM.\"\"\"\n",
        "    if not students:\n",
        "        print(\"-------------------------------------\")\n",
        "        print(\"Tidak ada data siswa untuk dicari.\")\n",
        "        return\n",
        "    print(\"-------------------------------------\")\n",
        "    nim = input(\"Masukkan NIM yang ingin dicari: \").strip()\n",
        "    for student in students:\n",
        "        if student[\"NIM\"] == nim:\n",
        "            print(f\"Data Siswa:\\nNama: {student['Nama']}, NIM: {student['NIM']}, Jurusan: {student['Jurusan']}, Nilai: {student['Nilai']}\")\n",
        "            return\n",
        "\n",
        "    print(f\"Siswa dengan NIM {nim} tidak ditemukan.\")\n",
        "\n",
        "\n",
        "def calculate_average_grade(students):\n",
        "    \"\"\"Menghitung rata-rata nilai dari semua siswa.\"\"\"\n",
        "    if not students:\n",
        "        print(\"-------------------------------------\")\n",
        "        print(\"Tidak ada data siswa untuk dihitung rata-ratanya.\")\n",
        "        return\n",
        "\n",
        "    total_grade = sum(student[\"Nilai\"] for student in students)\n",
        "    average_grade = total_grade / len(students)\n",
        "    print(\"-------------------------------------\")\n",
        "    print(f\"Rata-rata nilai dari semua siswa adalah: {average_grade:.2f}\")\n",
        "\n",
        "\n",
        "if __name__ == \"__main__\":\n",
        "    main()"
      ],
      "metadata": {
        "colab": {
          "base_uri": "https://localhost:8080/"
        },
        "id": "5GOhbc79_03N",
        "outputId": "5444de0c-df93-4ae2-a491-7f05701cbad0"
      },
      "execution_count": 5,
      "outputs": [
        {
          "output_type": "stream",
          "name": "stdout",
          "text": [
            "-------------------------------------\n",
            "\tSistem Manajemen Siswa\n",
            "-------------------------------------\n",
            "1. Tambah Data Siswa\n",
            "2. Tampilkan Semua Data Siswa\n",
            "3. Cari Siswa berdasarkan NIM\n",
            "4. Hitung Rata-rata Nilai\n",
            "5. Keluar\n",
            "-------------------------------------\n",
            "Pilih menu (1-5): 5\n",
            "-------------------------------------\n",
            "Keluar dari program.\n",
            "-------------------------------------\n"
          ]
        }
      ]
    }
  ]
}