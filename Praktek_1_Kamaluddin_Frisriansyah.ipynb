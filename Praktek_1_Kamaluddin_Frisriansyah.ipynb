{
  "nbformat": 4,
  "nbformat_minor": 0,
  "metadata": {
    "colab": {
      "provenance": [],
      "toc_visible": true,
      "authorship_tag": "ABX9TyMQqsHRT4J0tKm+flUqbOEN",
      "include_colab_link": true
    },
    "kernelspec": {
      "name": "python3",
      "display_name": "Python 3"
    },
    "language_info": {
      "name": "python"
    }
  },
  "cells": [
    {
      "cell_type": "markdown",
      "metadata": {
        "id": "view-in-github",
        "colab_type": "text"
      },
      "source": [
        "<a href=\"https://colab.research.google.com/github/kamal5701/NGOBAR-PYTHON/blob/main/Praktek_1_Kamaluddin_Frisriansyah.ipynb\" target=\"_parent\"><img src=\"https://colab.research.google.com/assets/colab-badge.svg\" alt=\"Open In Colab\"/></a>"
      ]
    },
    {
      "cell_type": "markdown",
      "source": [
        "# Jawaban No.1"
      ],
      "metadata": {
        "id": "YVLcIZ5gu8K4"
      }
    },
    {
      "cell_type": "markdown",
      "source": [
        "Kalkulator Sederhana\n",
        "\n",
        "- Buatlah program yang meminta pengguna untuk memasukkan dua angka dan operator aritmatika (+, -, *, /).\n",
        "- Program kemudian menghitung hasil operasi berdasarkan input pengguna dan menampilkannya.\n",
        "- Gunakan percabangan if-elif-else untuk menentukan operator yang digunakan."
      ],
      "metadata": {
        "id": "ypkjuKas2ED2"
      }
    },
    {
      "cell_type": "code",
      "source": [
        "def kalkulator_sederhana():\n",
        "    print(\"Kalkulator Sederhana\")\n",
        "    print(\"====================\")\n",
        "\n",
        "    # Meminta pengguna memasukkan dua angka\n",
        "    # try:\n",
        "    #     angka1 = int(input(\"Masukkan angka pertama: \"))\n",
        "    #     angka2 = int(input(\"Masukkan angka kedua: \"))\n",
        "    # except ValueError:\n",
        "    #     print(\"Input harus berupa angka.\")\n",
        "    #     return\n",
        "\n",
        "    angka1 = int(input(\"Masukkan angka pertama: \"))\n",
        "    angka2 = int(input(\"Masukkan angka kedua: \"))\n",
        "\n",
        "    # Meminta pengguna memasukkan operator aritmatika\n",
        "    operator = input(\"Masukkan operator (+, -, *, /): \")\n",
        "\n",
        "    # Menghitung hasil berdasarkan operator\n",
        "    if operator == \"+\":\n",
        "        hasil = angka1 + angka2\n",
        "        print(f\"Hasil: {angka1} + {angka2} = {hasil}\")\n",
        "    elif operator == \"-\":\n",
        "        hasil = angka1 - angka2\n",
        "        print(f\"Hasil: {angka1} - {angka2} = {hasil}\")\n",
        "    elif operator == \"*\":\n",
        "        hasil = angka1 * angka2\n",
        "        print(f\"Hasil: {angka1} * {angka2} = {hasil}\")\n",
        "    elif operator == \"/\":\n",
        "        if angka2 != 0:\n",
        "            hasil = angka1 / angka2\n",
        "            print(f\"Hasil: {angka1} / {angka2} = {hasil}\")\n",
        "        else:\n",
        "            print(\"Kesalahan: Pembagian dengan nol tidak diperbolehkan.\")\n",
        "    else:\n",
        "        print(\"Operator tidak valid. Gunakan salah satu dari (+, -, *, /).\")\n",
        "\n",
        "# Menjalankan program\n",
        "kalkulator_sederhana()"
      ],
      "metadata": {
        "colab": {
          "base_uri": "https://localhost:8080/"
        },
        "id": "aRg1DU8xvA0o",
        "outputId": "06eb324b-0c83-4b5e-aaa4-512f7d47b5a8"
      },
      "execution_count": null,
      "outputs": [
        {
          "output_type": "stream",
          "name": "stdout",
          "text": [
            "Kalkulator Sederhana\n",
            "====================\n",
            "Masukkan angka pertama: 6\n",
            "Masukkan angka kedua: 8\n",
            "Masukkan operator (+, -, *, /): -\n",
            "Hasil: 6 - 8 = -2\n"
          ]
        }
      ]
    },
    {
      "cell_type": "markdown",
      "source": [
        "# Jawaban No.2"
      ],
      "metadata": {
        "id": "lZsGlJtYvFUp"
      }
    },
    {
      "cell_type": "markdown",
      "source": [
        "Menampilkan Deret Fibonacci\n",
        "\n",
        "- Buatlah program yang menampilkan deret Fibonacci hingga batas tertentu yang ditentukan oleh pengguna.\n",
        "- Deret Fibonacci dimulai dengan 0 dan 1, dan setiap angka berikutnya adalah jumlah dari dua angka sebelumnya (0, 1, 1, 2, 3, 5, 8, ...).\n",
        "- Gunakan perulangan for atau while untuk menghasilkan deret."
      ],
      "metadata": {
        "id": "9tzAEIKN2TTt"
      }
    },
    {
      "cell_type": "code",
      "source": [
        "def deret_fibonacci():\n",
        "    print(\"Program Deret Fibonacci\")\n",
        "    print(\"=======================\")\n",
        "\n",
        "    # Meminta pengguna memasukkan batas deret Fibonacci\n",
        "    # try:\n",
        "    #     batas = int(input(\"Masukkan batas (jumlah maksimum elemen): \"))\n",
        "    #     if batas <= 0:\n",
        "    #         print(\"Batas harus berupa bilangan positif.\")\n",
        "    #         return\n",
        "    # except ValueError:\n",
        "    #     print(\"Input harus berupa bilangan bulat.\")\n",
        "    #     return\n",
        "\n",
        "    batas = int(input(\"Masukkan batas (jumlah maksimum elemen): \"))\n",
        "\n",
        "    # Inisialisasi deret Fibonacci\n",
        "    fibo = [0, 1]\n",
        "\n",
        "    # Menghasilkan deret Fibonacci\n",
        "    while len(fibo) < batas:\n",
        "        fibo.append(fibo[-1] + fibo[-2])\n",
        "\n",
        "    # Menampilkan hasil\n",
        "    print(\"Deret Fibonacci hingga batas:\")\n",
        "    print(fibo[:batas])\n",
        "\n",
        "# Menjalankan program\n",
        "deret_fibonacci()\n"
      ],
      "metadata": {
        "colab": {
          "base_uri": "https://localhost:8080/"
        },
        "id": "U15dv3DRvKLX",
        "outputId": "7dc822a6-872b-49bc-aed5-0a2588fa75b7"
      },
      "execution_count": null,
      "outputs": [
        {
          "output_type": "stream",
          "name": "stdout",
          "text": [
            "Program Deret Fibonacci\n",
            "=======================\n",
            "Masukkan batas (jumlah maksimum elemen): 7\n",
            "Deret Fibonacci hingga batas:\n",
            "[0, 1, 1, 2, 3, 5, 8]\n"
          ]
        }
      ]
    },
    {
      "cell_type": "markdown",
      "source": [
        "# Jawaban No.3"
      ],
      "metadata": {
        "id": "oajACF4wvKwg"
      }
    },
    {
      "cell_type": "markdown",
      "source": [
        "Mencari Nilai Maksimum dan Minimum dalam List\n",
        "\n",
        "- Buatlah program yang meminta pengguna untuk memasukkan serangkaian angka dan menyimpannya dalam sebuah list.\n",
        "- Program kemudian mencari nilai maksimum dan minimum dalam list tersebut dan menampilkannya.\n",
        "- Gunakan fungsi max() dan min() untuk mencari nilai maksimum dan minimum."
      ],
      "metadata": {
        "id": "T8lrbJxt2e5c"
      }
    },
    {
      "cell_type": "code",
      "source": [
        "def cari_maks_min():\n",
        "    print(\"Program Mencari Nilai Maksimum dan Minimum\")\n",
        "    print(\"=========================================\")\n",
        "\n",
        "    # Meminta pengguna memasukkan serangkaian angka\n",
        "    # try:\n",
        "    #     angka = input(\"Masukkan serangkaian angka (pisahkan dengan spasi): \").split()\n",
        "    #     list_angka = [float(x) for x in angka]\n",
        "    #     if not list_angka:\n",
        "    #         print(\"List tidak boleh kosong.\")\n",
        "    #         return\n",
        "    # except ValueError:\n",
        "    #     print(\"Input harus berupa angka yang dipisahkan dengan spasi.\")\n",
        "    #     return\n",
        "\n",
        "    angka = input(\"Masukan Serangkaian angka (pisahkan dengan spasi): \").split()\n",
        "    list_angka = [int(x) for x in angka]\n",
        "\n",
        "    # Mencari nilai maksimum dan minimum\n",
        "    nilai_maks = max(list_angka)\n",
        "    nilai_min = min(list_angka)\n",
        "\n",
        "    # Menampilkan hasil\n",
        "    print(f\"List angka: {list_angka}\")\n",
        "    print(f\"Nilai maksimum: {nilai_maks}\")\n",
        "    print(f\"Nilai minimum: {nilai_min}\")\n",
        "\n",
        "# Menjalankan program\n",
        "cari_maks_min()\n"
      ],
      "metadata": {
        "colab": {
          "base_uri": "https://localhost:8080/"
        },
        "id": "ykknP-mnvSrP",
        "outputId": "495fa12c-9bfd-4676-bae3-93732797cf2e"
      },
      "execution_count": null,
      "outputs": [
        {
          "output_type": "stream",
          "name": "stdout",
          "text": [
            "Program Mencari Nilai Maksimum dan Minimum\n",
            "=========================================\n",
            "Masukan Serangkaian angka (pisahkan dengan spasi): 9 2 1 5 8 3 4\n",
            "List angka: [9, 2, 1, 5, 8, 3, 4]\n",
            "Nilai maksimum: 9\n",
            "Nilai minimum: 1\n"
          ]
        }
      ]
    }
  ]
}