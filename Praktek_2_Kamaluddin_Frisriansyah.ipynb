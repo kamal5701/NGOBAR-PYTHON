{
  "nbformat": 4,
  "nbformat_minor": 0,
  "metadata": {
    "colab": {
      "provenance": [],
      "toc_visible": true,
      "include_colab_link": true
    },
    "kernelspec": {
      "name": "python3",
      "display_name": "Python 3"
    },
    "language_info": {
      "name": "python"
    }
  },
  "cells": [
    {
      "cell_type": "markdown",
      "metadata": {
        "id": "view-in-github",
        "colab_type": "text"
      },
      "source": [
        "<a href=\"https://colab.research.google.com/github/kamal5701/NGOBAR-PYTHON/blob/main/Praktek_2_Kamaluddin_Frisriansyah.ipynb\" target=\"_parent\"><img src=\"https://colab.research.google.com/assets/colab-badge.svg\" alt=\"Open In Colab\"/></a>"
      ]
    },
    {
      "cell_type": "markdown",
      "source": [
        "# Jawaban No.1"
      ],
      "metadata": {
        "id": "yWYWRNYpqEb-"
      }
    },
    {
      "cell_type": "markdown",
      "source": [
        "Buatlah sebuah fungsi yang menerima dua angka sebagai parameter, lalu mengembalikan hasil perkalian kedua angka tersebut. Kemudian, panggil fungsi tersebut dengan dua angka yang berbeda dan cetak hasilnya."
      ],
      "metadata": {
        "id": "oHM2nFWEqHo9"
      }
    },
    {
      "cell_type": "code",
      "source": [
        "def perkalian (a,b):\n",
        "    return a * b\n",
        "hasil = perkalian (6,7)\n",
        "print(f\"Hasil 6 x 7 adalah:\", hasil)"
      ],
      "metadata": {
        "id": "OZ0jL7cQqmzZ"
      },
      "execution_count": null,
      "outputs": []
    },
    {
      "cell_type": "markdown",
      "source": [
        "# Jawaban Soal No.2"
      ],
      "metadata": {
        "id": "Wpiq53WWrMwV"
      }
    },
    {
      "cell_type": "markdown",
      "source": [
        "Buatlah sebuah dekorator yang akan menambahkan output \"Fungsi telah dipanggil\" sebelum fungsi yang di dekorasi dijalankan dan output \"Fungsi telah selesai dijalankan\" setelah fungsi yang didekorasi selesai dijalankan. Kemudian buat sebuah fungsi untuk menampilkan nama dan dekorasi fungsi tersebut.\n"
      ],
      "metadata": {
        "id": "zW1451cwrRYc"
      }
    },
    {
      "cell_type": "code",
      "source": [
        "def panggil_nama(func):\n",
        "    def wrapper(*args, **kwargs):\n",
        "        print(\"Fungsi telah dipanggil\")\n",
        "        result = func(*args, **kwargs)\n",
        "        print(\"Fungsi telah selesai dijalankan\")\n",
        "        return result\n",
        "    return wrapper\n",
        "\n",
        "# Fungsi untuk menampilkan nama (contoh fungsi sederhana)\n",
        "@panggil_nama\n",
        "def tampilkan_nama(nama):\n",
        "    print(f\"Nama: {nama}\")\n",
        "\n",
        "# Contoh pemanggilan fungsi\n",
        "tampilkan_nama(\"Kamal\")"
      ],
      "metadata": {
        "colab": {
          "base_uri": "https://localhost:8080/"
        },
        "id": "-YwOnuE2rUuS",
        "outputId": "42cd9216-2725-46a0-a143-1fb38002d95b"
      },
      "execution_count": null,
      "outputs": [
        {
          "output_type": "stream",
          "name": "stdout",
          "text": [
            "Fungsi telah dipanggil\n",
            "Nama: Kamal\n",
            "Fungsi telah selesai dijalankan\n"
          ]
        }
      ]
    },
    {
      "cell_type": "markdown",
      "source": [
        "# Jawaban No.3"
      ],
      "metadata": {
        "id": "iA5Em8icrkCA"
      }
    },
    {
      "cell_type": "markdown",
      "source": [
        "Buatlah sebuah fungsi untuk menghitung luas persegi panjang. Fungsi tersebut memiliki parameter panjang dan lebar, dimana parameter lebar memiliki nilai default 10. Panggil fungsi tersebut dengan hanya memberikan parameter panjang, lalu panggil kembali dengan memberikan kedua parameter."
      ],
      "metadata": {
        "id": "TsVKAkfprnhE"
      }
    },
    {
      "cell_type": "code",
      "source": [
        "# Fungsi untuk menghitung luas persegi panjang\n",
        "def hitung_luas_persegi_panjang(panjang, lebar=10):\n",
        "    return panjang * lebar\n",
        "\n",
        "# Meminta input dari pengguna untuk panjang\n",
        "panjang = float(input(\"Masukkan panjang: \"))\n",
        "\n",
        "# Memanggil fungsi dengan hanya memberikan parameter panjang\n",
        "hasil1 = hitung_luas_persegi_panjang(panjang)\n",
        "print(f\"Luas dengan panjang saja (lebar default 10): {hasil1}\")\n",
        "\n",
        "# Meminta input dari pengguna untuk lebar\n",
        "lebar = float(input(\"Masukkan lebar: \"))\n",
        "\n",
        "# Memanggil fungsi dengan memberikan kedua parameter\n",
        "hasil2 = hitung_luas_persegi_panjang(panjang, lebar)\n",
        "print(f\"Luas dengan panjang dan lebar: {hasil2}\")\n"
      ],
      "metadata": {
        "colab": {
          "base_uri": "https://localhost:8080/"
        },
        "id": "MXpYuMYFrqz4",
        "outputId": "5d2c3d4f-4e4b-4fbd-8eb1-466f5c96b463"
      },
      "execution_count": null,
      "outputs": [
        {
          "output_type": "stream",
          "name": "stdout",
          "text": [
            "Masukkan panjang: 8\n",
            "Luas dengan panjang saja (lebar default 10): 80.0\n",
            "Masukkan lebar: 5\n",
            "Luas dengan panjang dan lebar: 40.0\n"
          ]
        }
      ]
    }
  ]
}